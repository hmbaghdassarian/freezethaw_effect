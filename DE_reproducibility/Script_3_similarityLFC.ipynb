{
 "cells": [
  {
   "cell_type": "code",
   "execution_count": 14,
   "metadata": {},
   "outputs": [],
   "source": [
    "import pandas as pd\n",
    "import numpy as np\n",
    "\n",
    "import seaborn as sns\n",
    "import matplotlib.pyplot as plt\n",
    "# %matplotlib inline\n",
    "from decimal import Decimal\n",
    "\n",
    "from tqdm import tqdm\n",
    "from tqdm import trange\n",
    "\n",
    "import random\n",
    "from itertools import product\n",
    "import itertools\n",
    "\n",
    "from scipy.stats import mannwhitneyu as MWU\n",
    "import scipy\n",
    "\n",
    "n, n_iter, alpha, lfc_min_thershold, base_mean_min_threshold, min_percentage, max_cutoff, normalization_type = 1000, 2, 0.1, 0.1, 0.1, 0.0, 0.2, 'RUV'"
   ]
  },
  {
   "cell_type": "code",
   "execution_count": 16,
   "metadata": {},
   "outputs": [],
   "source": [
    "subset_size = 0.01\n",
    "subset = False"
   ]
  },
  {
   "cell_type": "code",
   "execution_count": 18,
   "metadata": {},
   "outputs": [],
   "source": [
    "def flatten_list(list1):\n",
    "    return [item for sublist in list1 for item in sublist]"
   ]
  },
  {
   "cell_type": "code",
   "execution_count": 19,
   "metadata": {},
   "outputs": [],
   "source": [
    "\n",
    "p = open(\"../data/actual_proportions.n.\"+ str(n) + '.n_iter.' + str(n_iter) + '.txt').read().splitlines()\n",
    "\n",
    "p = sorted(set([float(i) for i in p]))\n"
   ]
  },
  {
   "cell_type": "code",
   "execution_count": 10,
   "metadata": {},
   "outputs": [
    {
     "name": "stdout",
     "output_type": "stream",
     "text": [
      "Add psuedocount to jaccard and take log\n",
      "0 of 11994000 subset combinations are na for Correlation\n",
      "0 of 11994000 subset combinations are na for Jaccard\n",
      "0 of 11994000 subset combinations are na for Avg Freeze Thaw\n",
      "0 of 11994000 subset combinations are na for Avg Rin\n",
      "0 of 11994000 subset combinations are na for Correlation Significante\n"
     ]
    }
   ],
   "source": [
    "summary_df = pd.read_csv('../data/' + normalization_type + 'summary_df_n_' + str(n) + '_n_iter_' + str(n_iter) + '.csv',index_col = 0)\n",
    "\n",
    "print('Add psuedocount to jaccard and take log')\n",
    "# psuedocount = 10**-3\n",
    "\n",
    "metrics = summary_df.columns[2:]\n",
    "n_combs = summary_df.shape[0]\n",
    "for metric in metrics:\n",
    "    na_amount = summary_df[summary_df[metric].isna()].shape[0]\n",
    "    print('{}'.format(na_amount) + ' of {} subset combinations are na for '.format(n_combs) + metric)\n",
    "\n",
    "summary_df.rename(columns = {'Avg Rin': 'Avg RIN'}, inplace = True)\n",
    "summary_df.to_csv('../data/' + normalization_type + 'visualize_summary_df__n_' + str(n) + '_n_iter_' + str(n_iter) + '.csv')\n"
   ]
  },
  {
   "cell_type": "code",
   "execution_count": 21,
   "metadata": {},
   "outputs": [],
   "source": [
    "# for glms\n",
    "sdf = summary_df.copy()\n",
    "sdf['Proportion'] = sdf['Proportion'].map(dict(zip(sorted(set(summary_df['Proportion'])), [4,6,8,10,12,14])))\n",
    "sdf.to_csv('../data/' + normalization_type + 'visualize_summary_df__n_' + str(n) + '_n_iter_' + str(n_iter) + '.csv')"
   ]
  },
  {
   "cell_type": "code",
   "execution_count": 22,
   "metadata": {},
   "outputs": [],
   "source": [
    "if subset:\n",
    "    index = sorted(random.sample(summary_df.index.tolist(), int(summary_df.shape[0]*subset_size)))\n",
    "    summary_df = summary_df.loc[index,:]"
   ]
  },
  {
   "cell_type": "markdown",
   "metadata": {},
   "source": [
    "# Double check this correlation significance"
   ]
  },
  {
   "cell_type": "code",
   "execution_count": 23,
   "metadata": {},
   "outputs": [
    {
     "name": "stderr",
     "output_type": "stream",
     "text": [
      " 25%|██▌       | 1/4 [01:06<03:18, 66.28s/it]"
     ]
    },
    {
     "name": "stdout",
     "output_type": "stream",
     "text": [
      "Did not work for Jaccard by proportion\n",
      "Did not work for Jaccard by proportion\n",
      "Did not work for Jaccard by proportion\n",
      "Did not work for Jaccard by proportion\n",
      "Did not work for Jaccard by proportion\n",
      "Did not work for Jaccard by proportion\n"
     ]
    },
    {
     "name": "stderr",
     "output_type": "stream",
     "text": [
      "100%|██████████| 4/4 [03:40<00:00, 55.14s/it]\n"
     ]
    }
   ],
   "source": [
    "metrics = ['Correlation', 'Avg Freeze Thaw', 'Avg RIN']\n",
    "splits = [2,2,2]\n",
    "metric_split_map = dict(zip(metrics,splits))\n",
    "\n",
    "for k in trange(len(metrics)):\n",
    "    metric = metrics[k]\n",
    "    split = splits[k]\n",
    "    \n",
    "    def bin_by_proportion(x):\n",
    "        try:\n",
    "            return pd.qcut(x,split)\n",
    "        except:\n",
    "            print('Did not work for ' + metric + ' by proportion')\n",
    "            return pd.cut(x, split)\n",
    "        \n",
    "        \n",
    "    summary_df[metric + ' Bins by Proportion'] = summary_df.groupby('Proportion')[metric].apply(bin_by_proportion)\n",
    "\n",
    "    summary_df.sort_values(by = 'Proportion', inplace = True)\n",
    "    summary_df.reset_index(inplace = True, drop = True)\n",
    "    test_index = []\n",
    "    bin_rank_list = []\n",
    "    for p_ in sorted(set(summary_df['Proportion'])):\n",
    "        d = summary_df[summary_df['Proportion'] == p_]\n",
    "        test_index.append(d.index.tolist())\n",
    "        bin_rank = dict(zip(sorted(d[metric + ' Bins by Proportion'].unique()), [0,1]))\n",
    "        bin_rank_list += d[metric + ' Bins by Proportion'].map(bin_rank).tolist()\n",
    "    \n",
    "    if flatten_list(test_index) == summary_df.index.tolist():\n",
    "        summary_df[metric + ' Ranks by Proportion'] = bin_rank_list\n",
    "    else:\n",
    "        raise ValueError('Did not work')"
   ]
  },
  {
   "cell_type": "code",
   "execution_count": 24,
   "metadata": {},
   "outputs": [],
   "source": [
    "metrics = ['Avg Freeze Thaw', 'Avg RIN']\n",
    "\n",
    "freeze_thaw_map = {0: 'High Sample Quality', 1: 'Low Sample Quality'}\n",
    "RIN_map = {1: 'High Sample Quality', 0: 'Low Sample Quality'}\n",
    "maps = [freeze_thaw_map, RIN_map]\n",
    "\n",
    "for i in range(len(metrics)):\n",
    "    metric = metrics[i]\n",
    "    summary_df[metric + ' Ranks by Proportion'] = summary_df[metric + ' Ranks by Proportion'].map(maps[i])"
   ]
  },
  {
   "cell_type": "code",
   "execution_count": 11,
   "metadata": {},
   "outputs": [],
   "source": [
    "a = sorted(set(summary_df['Proportion']))\n",
    "b = [4,6,8,10,12,14]\n",
    "proportion_to_size = dict(zip(a,b))"
   ]
  },
  {
   "cell_type": "code",
   "execution_count": 1,
   "metadata": {},
   "outputs": [],
   "source": [
    "print('Visualize no swarmplot LFC v proportion')\n",
    "sns.set(style = 'white', font_scale = 2)\n",
    "# similarity_metrics = [correlation_df, jaccard_df.iloc[:,2:]]\n",
    "metrics = ['Correlation']\n",
    "fig,ax = plt.subplots(figsize = (10,10), ncols=1, nrows=1)\n",
    "title = ['']\n",
    "\n",
    "colors = sns.color_palette(\"Blues\")\n",
    "for i in range(len(metrics)):\n",
    "    metric = metrics[i]\n",
    "    \n",
    "    \n",
    "    if (metric == 'Correlation')  and (filter_sig_cor == True):\n",
    "        sns.violinplot(x = 'Proportion', y = metric, data = summary_df[summary_df['Correlation Significante'] == 1], \n",
    "                       palette = colors, inner = 'quartile', ax = ax[i])\n",
    "    else:\n",
    "        sns.boxplot(x = 'Proportion', y = metric, data = summary_df, \n",
    "                       palette = colors, ax = ax[i])\n",
    "   \n",
    "    ax[i].set_title(title[i])\n",
    "    ax[i].set_xticklabels(['{}'.format(proportion_to_size[p_]) for p_ in sorted(set(summary_df['Proportion']))]);\n",
    "    ax[i].set_xlabel('Subset Size')\n",
    "    ax[i].set_ylabel('Similarity')\n",
    "\n",
    "\n",
    "\n",
    "fig.subplots_adjust(top = 0.92, bottom=0.01, hspace=0.3, wspace=0.15)\n"
   ]
  },
  {
   "cell_type": "code",
   "execution_count": 62,
   "metadata": {},
   "outputs": [
    {
     "data": {
      "image/png": "[encoded data removed]",
      "text/plain": [
       "<Figure size 1224x360 with 2 Axes>"
      ]
     },
     "metadata": {},
     "output_type": "display_data"
    }
   ],
   "source": [
    "blue = sns.color_palette(\"RdBu_r\", 7)[0]\n",
    "red = sns.color_palette(\"RdBu_r\", 7)[-1]\n",
    "\n",
    "metrics = ['Correlation']\n",
    "ranks = ['Avg Freeze Thaw', 'Avg RIN']\n",
    "fig, ax = plt.subplots(ncols = len(ranks),nrows = len(metrics), figsize = (17,5))\n",
    "sns.set(style = 'white', font_scale = 1)\n",
    "p_list = []\n",
    "\n",
    "metric = metrics[0]\n",
    "for j in range(len(ranks)):\n",
    "    rank = ranks[j]\n",
    "\n",
    "\n",
    "    median_vals = summary_df.groupby(['Proportion', rank + ' Ranks by Proportion'])['Correlation'].median()\n",
    "    median_vals = median_vals.unstack() \n",
    "    # fold change of high with respect to low\n",
    "    median_vals = pd.DataFrame(np.divide(median_vals.loc[:, 'High Sample Quality'], \n",
    "                                         median_vals.loc[:, 'Low Sample Quality']), \n",
    "                              columns = ['Fold Change'])\n",
    "\n",
    "    median_vals['Proportion'] = median_vals.index\n",
    "    \n",
    "\n",
    "    sns.pointplot(x = 'Proportion', y = 'Fold Change', data = median_vals, ax = ax[j], color = 'black')\n",
    "    \n",
    "    if j == 0:\n",
    "        ax[j].set_ylabel('Fold Change   ($\\\\dfrac {High_{Quality}}{Low_{Quality}}$)', fontsize = 25)\n",
    "        ax[j].set_title('Freeze-Thaw', fontsize = 25)\n",
    "    else:\n",
    "        ax[j].set_ylabel('')\n",
    "        ax[j].set_title('RIN', fontsize = 25)\n",
    "    ax[j].set_xlabel('Subset Size', fontsize = 25)\n",
    "    ax[j].set_xticklabels(['{}'.format(proportion_to_size[p_]) for p_ in sorted(set(summary_df['Proportion']))])\n",
    "    ax[j].tick_params(axis='x', which='major', labelsize=22)\n",
    "    ax[j].tick_params(axis='y', which='major', labelsize=17)\n",
    "    # MWU test: null is that high sample quality similarity is not higher than low sample quality\n",
    "    pvals_df = pd.DataFrame(columns = ['PVAL'])\n",
    "    for p_ in sorted(set(summary_df['Proportion'])):\n",
    "        bin_0 = summary_df[metric][(summary_df['Proportion'] == p_) \n",
    "                                   & (summary_df[rank + ' Ranks by Proportion'] == 'Low Sample Quality')]\n",
    "        bin_1 = summary_df[metric][(summary_df['Proportion'] == p_) \n",
    "                                   & (summary_df[rank + ' Ranks by Proportion'] == 'High Sample Quality')]\n",
    "\n",
    "        pvals_df.loc[p_, 'PVAL'] =  MWU(bin_1, bin_0, use_continuity = False, alternative = 'greater')[1]\n",
    "    \n",
    "    # draw pvals\n",
    "    if ax[j].get_ylim()[1] > 0:\n",
    "        ylim_annot = ax[j].get_ylim()[1]*1.02\n",
    "        new_ylim_top = ax[j].get_ylim()[1]*1.04\n",
    "        new_ylim_bottom = ax[j].get_ylim()[0]\n",
    "    else:\n",
    "        ylim_annot = ax[j].get_ylim()[1]*0.995\n",
    "        new_ylim_top = ax[j].get_ylim()[1]*0.98\n",
    "        new_ylim_bottom = ax[j].get_ylim()[0]*1.05\n",
    "    ax[j].set_ylim(new_ylim_bottom,new_ylim_top)\n",
    "    ax[j].axhline(y=1, linestyle='--', c = 'black')\n",
    "\n",
    "    p_list += [pvals_df]\n",
    "\n",
    "first = ax[0].get_ylim()\n",
    "second = ax[1].get_ylim()\n",
    "ax[0].set_ylim(second[0] - 0.03, first[1])\n",
    "ax[1].set_ylim(second[0] - 0.03, first[1])\n",
    "ax[1].yaxis.set_ticklabels([])\n",
    "for j in range(2):\n",
    "    ax[j].axhspan(second[0] - 0.03, 1, facecolor=red, alpha=0.1)\n",
    "    ax[j].axhspan(1, first[1], facecolor=blue, alpha=0.1)\n",
    "\n",
    "# add pvals to graph\n",
    "j = -1\n",
    "for pvals_df in p_list:\n",
    "    j += 1\n",
    "    counter = 0\n",
    "    for k in pvals_df.index:\n",
    "        pval = pvals_df.loc[k,'PVAL']\n",
    "        if pval == 0:\n",
    "            ax[j].annotate('****', xycoords='data', fontsize = 25,\n",
    "                             xy=(list(ax[j].get_xticks())[counter]-0.25, 1.33))\n",
    "        elif pval < 0.001:\n",
    "            ax[j].annotate('***', xycoords='data', fontsize = 25,\n",
    "                             xy=(list(ax[j].get_xticks())[counter]-0.25, 1.33))\n",
    "        elif pval < 0.01:\n",
    "            ax[j].annotate('**', xycoords='data', fontsize = 25,\n",
    "                             xy=(list(ax[j].get_xticks())[counter]-0.25, 1.33))\n",
    "        elif pval < 0.05:\n",
    "            ax[j].annotate('*', xycoords='data',fontsize = 25,\n",
    "                             xy=(list(ax[j].get_xticks())[counter]-0.25, 1.33))\n",
    "\n",
    "\n",
    "        counter += 1\n",
    "        \n",
    "\n",
    "fig.subplots_adjust(wspace=0.09)\n",
    "\n",
    "  "
   ]
  },
  {
   "cell_type": "code",
   "execution_count": null,
   "metadata": {},
   "outputs": [],
   "source": [
    "library(lme4)\n",
    "\n",
    "n = 1000\n",
    "n_iter = 2\n",
    "\n",
    "RUV=read.csv(paste0('../data/RUVsdf_n_',n,'_n_iter_', n_iter,'.csv'))\n",
    "\n",
    "d_RUV = matrix(1:3, nrow = 3, dimnames = list(c('(GLM ~ Sample Size + Freeze Thaw + RIN)', '(GLM ~ Freeze Thaw)', '(GLM ~ RIN)'), c('AIC')) )\n",
    "\n",
    "\n",
    "t = glm( Correlation ~ Proportion + Avg.Freeze.Thaw + Avg.Rin, data=RUV)\n",
    "write.csv( coef( summary( t ) ), file =  \"../data/RUV_Correlation_GLM_ALL.csv\")\n",
    "d_RUV[1,1] = AIC(t)\n",
    "\n",
    "t = glm( Correlation ~ Avg.Freeze.Thaw, data=RUV)\n",
    "write.csv( coef( summary( t ) ), file =  \"../data/RUV_Correlation_GLM_FT.csv\")\n",
    "d_RUV[2,1] = AIC(t)\n",
    "\n",
    "t = glm( Correlation ~ Avg.Rin, data=RUV)\n",
    "write.csv( coef( summary( t ) ), file =  \"../data/RUV_Correlation_GLM_RIN.csv\")\n",
    "d_RUV[3,1] = AIC(t)\n",
    "\n",
    "write.csv(d_RUV, file = \"../data/RUV_GLM_AIC.csv\")"
   ]
  }
 ],
 "metadata": {
  "kernelspec": {
   "display_name": "Python [conda env:RNAseqQC] *",
   "language": "python",
   "name": "conda-env-RNAseqQC-py"
  },
  "language_info": {
   "codemirror_mode": {
    "name": "ipython",
    "version": 3
   },
   "file_extension": ".py",
   "mimetype": "text/x-python",
   "name": "python",
   "nbconvert_exporter": "python",
   "pygments_lexer": "ipython3",
   "version": "3.7.6"
  }
 },
 "nbformat": 4,
 "nbformat_minor": 2
}
